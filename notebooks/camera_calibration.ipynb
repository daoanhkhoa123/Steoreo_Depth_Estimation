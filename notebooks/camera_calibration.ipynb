{
 "cells": [
  {
   "cell_type": "code",
   "execution_count": 15,
   "metadata": {},
   "outputs": [],
   "source": [
    "import cv2\n",
    "import numpy as np\n",
    "from matplotlib import pyplot as plt"
   ]
  },
  {
   "cell_type": "code",
   "execution_count": 16,
   "metadata": {},
   "outputs": [
    {
     "name": "stdout",
     "output_type": "stream",
     "text": [
      "[]\n"
     ]
    },
    {
     "ename": "error",
     "evalue": "OpenCV(4.10.0) D:\\a\\opencv-python\\opencv-python\\opencv\\modules\\calib3d\\src\\calibration.cpp:3859: error: (-215:Assertion failed) nimages > 0 in function 'cv::calibrateCameraRO'\n",
     "output_type": "error",
     "traceback": [
      "\u001b[1;31m---------------------------------------------------------------------------\u001b[0m",
      "\u001b[1;31merror\u001b[0m                                     Traceback (most recent call last)",
      "Cell \u001b[1;32mIn[16], line 54\u001b[0m\n\u001b[0;32m     46\u001b[0m h, w \u001b[38;5;241m=\u001b[39m img\u001b[38;5;241m.\u001b[39mshape[:\u001b[38;5;241m2\u001b[39m]\n\u001b[0;32m     48\u001b[0m \u001b[38;5;124;03m\"\"\"\u001b[39;00m\n\u001b[0;32m     49\u001b[0m \u001b[38;5;124;03mPerforming camera calibration by \u001b[39;00m\n\u001b[0;32m     50\u001b[0m \u001b[38;5;124;03mpassing the value of known 3D points (objpoints)\u001b[39;00m\n\u001b[0;32m     51\u001b[0m \u001b[38;5;124;03mand corresponding pixel coordinates of the \u001b[39;00m\n\u001b[0;32m     52\u001b[0m \u001b[38;5;124;03mdetected corners (imgpoints)\u001b[39;00m\n\u001b[0;32m     53\u001b[0m \u001b[38;5;124;03m\"\"\"\u001b[39;00m\n\u001b[1;32m---> 54\u001b[0m ret, mtx, dist, rvecs, tvecs \u001b[38;5;241m=\u001b[39m cv2\u001b[38;5;241m.\u001b[39mcalibrateCamera(\n\u001b[0;32m     55\u001b[0m     objpoints, imgpoints, gray\u001b[38;5;241m.\u001b[39mshape[::\u001b[38;5;241m-\u001b[39m\u001b[38;5;241m1\u001b[39m], \u001b[38;5;28;01mNone\u001b[39;00m, \u001b[38;5;28;01mNone\u001b[39;00m)\n\u001b[0;32m     57\u001b[0m \u001b[38;5;28mprint\u001b[39m(\u001b[38;5;124m\"\u001b[39m\u001b[38;5;124mCamera matrix : \u001b[39m\u001b[38;5;130;01m\\n\u001b[39;00m\u001b[38;5;124m\"\u001b[39m)\n\u001b[0;32m     58\u001b[0m \u001b[38;5;28mprint\u001b[39m(mtx)\n",
      "\u001b[1;31merror\u001b[0m: OpenCV(4.10.0) D:\\a\\opencv-python\\opencv-python\\opencv\\modules\\calib3d\\src\\calibration.cpp:3859: error: (-215:Assertion failed) nimages > 0 in function 'cv::calibrateCameraRO'\n"
     ]
    }
   ],
   "source": [
    "# Defining the dimensions of checkerboard\n",
    "CHECKERBOARD = (8,8)\n",
    "criteria = (cv2.TERM_CRITERIA_EPS + cv2.TERM_CRITERIA_MAX_ITER, 30, 0.001)\n",
    " \n",
    "# Creating vector to store vectors of 3D points for each checkerboard image\n",
    "objpoints = []\n",
    "# Creating vector to store vectors of 2D points for each checkerboard image\n",
    "imgpoints = [] \n",
    " \n",
    " \n",
    "# Defining the world coordinates for 3D points\n",
    "objp = np.zeros((1, CHECKERBOARD[0] * CHECKERBOARD[1], 3), np.float32)\n",
    "objp[0,:,:2] = np.mgrid[0:CHECKERBOARD[0], 0:CHECKERBOARD[1]].T.reshape(-1, 2)\n",
    "prev_img_shape = None\n",
    " \n",
    "# Extracting path of individual image stored in a given directory\n",
    "images = [cv2.imread(\"phong_0.jpg\"), cv2.imread(\"phong_1.jpg\")]\n",
    "for img in images:\n",
    "    gray = cv2.cvtColor(img, cv2.COLOR_BGR2GRAY)\n",
    "    # Find the chess board corners\n",
    "    # If desired number of corners are found in the image then ret = true\n",
    "    ret, corners = cv2.findChessboardCorners(\n",
    "        gray, CHECKERBOARD, cv2.CALIB_CB_ADAPTIVE_THRESH + cv2.CALIB_CB_FAST_CHECK + cv2.CALIB_CB_NORMALIZE_IMAGE)\n",
    "\n",
    "    \"\"\"\n",
    "    If desired number of corner are detected,\n",
    "    we refine the pixel coordinates and display \n",
    "    them on the images of checker board\n",
    "    \"\"\"\n",
    "    if ret == True:\n",
    "        objpoints.append(objp)\n",
    "        # refining pixel coordinates for given 2d points.\n",
    "        corners2 = cv2.cornerSubPix(\n",
    "            gray, corners, (11, 11), (-1, -1), criteria)\n",
    "\n",
    "        imgpoints.append(corners2)\n",
    "\n",
    "        # Draw and display the corners\n",
    "        img = cv2.drawChessboardCorners(img, CHECKERBOARD, corners2, ret)\n",
    "\n",
    "print(objpoints)\n",
    "\n",
    "h, w = img.shape[:2]\n",
    "\n",
    "\"\"\"\n",
    "Performing camera calibration by \n",
    "passing the value of known 3D points (objpoints)\n",
    "and corresponding pixel coordinates of the \n",
    "detected corners (imgpoints)\n",
    "\"\"\"\n",
    "ret, mtx, dist, rvecs, tvecs = cv2.calibrateCamera(\n",
    "    objpoints, imgpoints, gray.shape[::-1], None, None)\n",
    "\n",
    "print(\"Camera matrix : \\n\")\n",
    "print(mtx)\n",
    "print(\"dist : \\n\")\n",
    "print(dist)\n",
    "print(\"rvecs : \\n\")\n",
    "print(rvecs)\n",
    "print(\"tvecs : \\n\")\n",
    "print(tvecs)"
   ]
  }
 ],
 "metadata": {
  "kernelspec": {
   "display_name": "py-sql",
   "language": "python",
   "name": "python3"
  },
  "language_info": {
   "codemirror_mode": {
    "name": "ipython",
    "version": 3
   },
   "file_extension": ".py",
   "mimetype": "text/x-python",
   "name": "python",
   "nbconvert_exporter": "python",
   "pygments_lexer": "ipython3",
   "version": "3.12.3"
  }
 },
 "nbformat": 4,
 "nbformat_minor": 2
}
